{
 "cells": [
  {
   "cell_type": "code",
   "execution_count": null,
   "id": "7e459c73-9a5c-48d5-b6fc-200983b0256c",
   "metadata": {},
   "outputs": [],
   "source": [
    "from collections import Counter\n",
    "import numpy as np\n",
    "import pandas as pd\n",
    "import igraph as ig\n",
    "import itertools as it\n",
    "import random\n",
    "from scipy.special import loggamma\n",
    "from pyitlib import discrete_random_variable as drv\n",
    "import matplotlib.pyplot as plt\n",
    "from joblib import Parallel,delayed\n",
    "import pickle\n",
    "import time\n",
    "import itertools\n",
    "import glob\n",
    "from matplotlib import cm\n",
    "import graph_tool as gt\n",
    "from graph_tool.all import *\n",
    "from functions import *"
   ]
  },
  {
   "cell_type": "markdown",
   "id": "60691870-86ea-42e0-b056-e800ef5bd385",
   "metadata": {},
   "source": [
    "# social contact data"
   ]
  },
  {
   "cell_type": "code",
   "execution_count": null,
   "id": "f6d61fde-133a-45c5-99d9-d3dd2a415b65",
   "metadata": {},
   "outputs": [],
   "source": [
    "Dsoc = [0]*233\n",
    "files = glob.glob('networks/reality/binned/*')\n",
    "for f in files:\n",
    "    g = ig.load(f)\n",
    "    Dsoc[int(f.split('/')[-1].strip('.gml'))] = set([e.tuple for e in g.es])\n",
    "N = max([max([max(e) for e in s]) for s in Dsoc]) - min([min([min(e) for e in s]) for s in Dsoc])"
   ]
  },
  {
   "cell_type": "code",
   "execution_count": null,
   "id": "cc26d091-62f7-4dc7-9c09-241053e5113e",
   "metadata": {},
   "outputs": [],
   "source": [
    "#contiguous\n",
    "MDLobj = MDL_populations(Dsoc,N,K0=np.inf,n_fails=np.inf)\n",
    "C,A,L = MDLobj.dynamic_contiguous()\n",
    "inferred_labels_contiguous = [p[1] for p in sorted({node:c for c in C for node in C[c] }.items(),key=lambda x: x[0])]"
   ]
  },
  {
   "cell_type": "code",
   "execution_count": null,
   "id": "88557d1a-280a-42b9-9115-421bdf52ea32",
   "metadata": {},
   "outputs": [],
   "source": [
    "#discontiguous\n",
    "MDLobj = MDL_populations(Dsoc,N,K0=200,n_fails=1000)\n",
    "MDLobj.initialize_clusters()\n",
    "C,A,L = MDLobj.run_sims()\n",
    "inferred_labels_discontiguous = [p[1] for p in sorted({node:c for c in C for node in C[c] }.items(),key=lambda x: x[0])]"
   ]
  },
  {
   "cell_type": "code",
   "execution_count": null,
   "id": "ee8a88fb-3a8e-4550-8eca-db6a9957fc41",
   "metadata": {},
   "outputs": [],
   "source": []
  }
 ],
 "metadata": {
  "kernelspec": {
   "display_name": "Python 3 (ipykernel)",
   "language": "python",
   "name": "python3"
  },
  "language_info": {
   "codemirror_mode": {
    "name": "ipython",
    "version": 3
   },
   "file_extension": ".py",
   "mimetype": "text/x-python",
   "name": "python",
   "nbconvert_exporter": "python",
   "pygments_lexer": "ipython3",
   "version": "3.10.2"
  }
 },
 "nbformat": 4,
 "nbformat_minor": 5
}
